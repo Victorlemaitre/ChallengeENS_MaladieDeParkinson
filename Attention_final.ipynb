{
 "cells": [
  {
   "cell_type": "code",
   "id": "initial_id",
   "metadata": {
    "collapsed": true,
    "ExecuteTime": {
     "end_time": "2025-05-25T16:53:02.133893Z",
     "start_time": "2025-05-25T16:53:02.063158Z"
    }
   },
   "source": [
    "import polars as pl\n",
    "import torch \n",
    "import torch.nn as nn\n",
    "import torch.optim as optim\n",
    "from sklearn.model_selection import KFold\n",
    "from torch.utils.data import DataLoader, Subset,TensorDataset,Dataset\n",
    "import torch.nn.functional as F\n",
    "from dataclasses import dataclass\n",
    "import importlib\n",
    "from typing import Callable"
   ],
   "outputs": [],
   "execution_count": 6
  },
  {
   "cell_type": "code",
   "source": [
    "from data_process import data_pipeline\n",
    "from Trainer import fold_training\n",
    "from models import Transformer"
   ],
   "metadata": {
    "collapsed": false,
    "ExecuteTime": {
     "end_time": "2025-05-25T16:53:02.678059Z",
     "start_time": "2025-05-25T16:53:02.667781Z"
    }
   },
   "id": "58b3520d47dad256",
   "outputs": [],
   "execution_count": 7
  },
  {
   "cell_type": "code",
   "source": [
    "@dataclass\n",
    "class Config:\n",
    "    #data\n",
    "    null_value: int = 0\n",
    "\n",
    "    # Config model\n",
    "    model: Callable = Transformer\n",
    "    context_length: int = 16\n",
    "    hidden_dim: int = 64\n",
    "    dropout_att: float = 0.2\n",
    "    dropout_MLP: float = 0.2\n",
    "    num_layers: int = 1\n",
    "    n_head: int = 8\n",
    "    output_dim: int = 1\n",
    "    n_deep_ensemble: int = 1\n",
    "    deviation: float = 1e-2\n",
    "    mul: int = 4\n",
    "    act : Callable = nn.GELU()\n",
    "\n",
    "\n",
    "    # Config training\n",
    "    n_folds: int = 5\n",
    "    batch_size: int =  64\n",
    "    lr: float = 1e-2\n",
    "    weight_decay: float = 1e-2\n",
    "    epochs: int = 100\n",
    "    step_size: int = 20\n",
    "    gamma: float = 0.5\n",
    "    criterion: Callable = F.mse_loss\n",
    "    device: str = \"cuda\" if torch.cuda.is_available() else \"cpu\"\n",
    "\n",
    "config = Config()"
   ],
   "metadata": {
    "collapsed": false,
    "ExecuteTime": {
     "end_time": "2025-05-25T16:53:03.332805Z",
     "start_time": "2025-05-25T16:53:03.297360Z"
    }
   },
   "id": "324d74592a034d4b",
   "outputs": [],
   "execution_count": 8
  },
  {
   "cell_type": "code",
   "source": "train_dataset, X, y = data_pipeline(\"X_train.csv\",\"y_train.csv\",config)",
   "metadata": {
    "collapsed": false,
    "ExecuteTime": {
     "end_time": "2025-05-25T16:53:04.773481Z",
     "start_time": "2025-05-25T16:53:04.459504Z"
    }
   },
   "id": "8ed9a72c6ec76397",
   "outputs": [],
   "execution_count": 9
  },
  {
   "cell_type": "code",
   "source": [
    "fold_training(X, train_dataset, config)"
   ],
   "metadata": {
    "collapsed": false,
    "ExecuteTime": {
     "end_time": "2025-05-25T16:53:11.774499Z",
     "start_time": "2025-05-25T16:53:05.544845Z"
    }
   },
   "id": "cd28f33a47bd6a85",
   "outputs": [
    {
     "name": "stdout",
     "output_type": "stream",
     "text": [
      "fold 0\n",
      "-------------------------------------------------------\n",
      "epoch : 0 : Learning Rate = 0.01\n",
      "Average time per epoch 1.180439\n",
      "loss per model : [502.3112532797718]\n",
      "loss ensemble val : 99.73349931294815\n",
      "-------------------------------------------------------\n",
      "-------------------------------------------------------\n",
      "epoch : 1 : Learning Rate = 0.01\n",
      "Average time per epoch 0.966630\n",
      "loss per model : [79.64766692446351]\n",
      "loss ensemble val : 62.40905471080153\n",
      "-------------------------------------------------------\n",
      "-------------------------------------------------------\n",
      "epoch : 2 : Learning Rate = 0.01\n",
      "Average time per epoch 0.972350\n",
      "loss per model : [58.08702976709432]\n",
      "loss ensemble val : 46.91815341077232\n",
      "-------------------------------------------------------\n",
      "-------------------------------------------------------\n",
      "epoch : 3 : Learning Rate = 0.01\n",
      "Average time per epoch 0.784791\n",
      "loss per model : [45.47357770052652]\n",
      "loss ensemble val : 63.3947274813201\n",
      "-------------------------------------------------------\n",
      "-------------------------------------------------------\n",
      "epoch : 4 : Learning Rate = 0.01\n",
      "Average time per epoch 0.834115\n",
      "loss per model : [29.365241628618893]\n"
     ]
    },
    {
     "ename": "KeyboardInterrupt",
     "evalue": "",
     "output_type": "error",
     "traceback": [
      "\u001B[1;31m---------------------------------------------------------------------------\u001B[0m",
      "\u001B[1;31mKeyboardInterrupt\u001B[0m                         Traceback (most recent call last)",
      "Cell \u001B[1;32mIn[10], line 1\u001B[0m\n\u001B[1;32m----> 1\u001B[0m \u001B[43mfold_training\u001B[49m\u001B[43m(\u001B[49m\u001B[43mX\u001B[49m\u001B[43m,\u001B[49m\u001B[43m \u001B[49m\u001B[43mtrain_dataset\u001B[49m\u001B[43m,\u001B[49m\u001B[43m \u001B[49m\u001B[43mconfig\u001B[49m\u001B[43m)\u001B[49m\n",
      "File \u001B[1;32m~\\PycharmProjects\\pythonProject\\ChallengeENS\\Trainer.py:28\u001B[0m, in \u001B[0;36mfold_training\u001B[1;34m(X, dataset, config)\u001B[0m\n\u001B[0;32m     25\u001B[0m     train_dataloader \u001B[38;5;241m=\u001B[39m DataLoader(train_subset, batch_size\u001B[38;5;241m=\u001B[39mconfig\u001B[38;5;241m.\u001B[39mbatch_size, shuffle\u001B[38;5;241m=\u001B[39m\u001B[38;5;28;01mTrue\u001B[39;00m)\n\u001B[0;32m     26\u001B[0m     val_dataloader \u001B[38;5;241m=\u001B[39m DataLoader(val_subset, batch_size\u001B[38;5;241m=\u001B[39mconfig\u001B[38;5;241m.\u001B[39mbatch_size, shuffle\u001B[38;5;241m=\u001B[39m\u001B[38;5;28;01mTrue\u001B[39;00m)\n\u001B[0;32m     27\u001B[0m     loss_fold\u001B[38;5;241m.\u001B[39mappend(\n\u001B[1;32m---> 28\u001B[0m         \u001B[43mtraining_loop\u001B[49m\u001B[43m(\u001B[49m\u001B[43mensemble\u001B[49m\u001B[43m,\u001B[49m\u001B[43m \u001B[49m\u001B[43mtrain_dataloader\u001B[49m\u001B[43m,\u001B[49m\u001B[43m \u001B[49m\u001B[43mval_dataloader\u001B[49m\u001B[43m,\u001B[49m\u001B[43m \u001B[49m\u001B[43moptimizers\u001B[49m\u001B[43m,\u001B[49m\u001B[43m \u001B[49m\u001B[43mschedulers\u001B[49m\u001B[43m,\u001B[49m\u001B[43m \u001B[49m\u001B[43mconfig\u001B[49m\u001B[43m,\u001B[49m\u001B[43m \u001B[49m\u001B[43mcross_entropy\u001B[49m\u001B[43m)\u001B[49m)\n\u001B[0;32m     30\u001B[0m \u001B[38;5;28mprint\u001B[39m(\u001B[38;5;124m\"\u001B[39m\u001B[38;5;124m==============================================================================\u001B[39m\u001B[38;5;124m\"\u001B[39m)\n\u001B[0;32m     31\u001B[0m \u001B[38;5;28;01mfor\u001B[39;00m f \u001B[38;5;129;01min\u001B[39;00m \u001B[38;5;28mrange\u001B[39m(\u001B[38;5;28mlen\u001B[39m(loss_fold)):\n",
      "File \u001B[1;32m~\\PycharmProjects\\pythonProject\\ChallengeENS\\Trainer.py:67\u001B[0m, in \u001B[0;36mtraining_loop\u001B[1;34m(ensemble, train_dataloader, val_dataloader, optimizers, schedulers, config, cross_entropy)\u001B[0m\n\u001B[0;32m     65\u001B[0m \u001B[38;5;28mprint\u001B[39m(\u001B[38;5;124mf\u001B[39m\u001B[38;5;124m\"\u001B[39m\u001B[38;5;124mloss per model : \u001B[39m\u001B[38;5;132;01m{\u001B[39;00mloss_train_individual\u001B[38;5;132;01m}\u001B[39;00m\u001B[38;5;124m\"\u001B[39m)\n\u001B[0;32m     66\u001B[0m \u001B[38;5;28;01mif\u001B[39;00m val_dataloader \u001B[38;5;129;01mis\u001B[39;00m \u001B[38;5;129;01mnot\u001B[39;00m \u001B[38;5;28;01mNone\u001B[39;00m:\n\u001B[1;32m---> 67\u001B[0m     loss_val \u001B[38;5;241m=\u001B[39m \u001B[43meval_models\u001B[49m\u001B[43m(\u001B[49m\u001B[43mensemble\u001B[49m\u001B[43m,\u001B[49m\u001B[43m \u001B[49m\u001B[43mval_dataloader\u001B[49m\u001B[43m,\u001B[49m\u001B[43m \u001B[49m\u001B[43mconfig\u001B[49m\u001B[43m,\u001B[49m\u001B[43m \u001B[49m\u001B[43mcross_entropy\u001B[49m\u001B[43m)\u001B[49m\n\u001B[0;32m     68\u001B[0m     \u001B[38;5;28mprint\u001B[39m(\u001B[38;5;124mf\u001B[39m\u001B[38;5;124m\"\u001B[39m\u001B[38;5;124mloss ensemble val : \u001B[39m\u001B[38;5;132;01m{\u001B[39;00mloss_val\u001B[38;5;132;01m}\u001B[39;00m\u001B[38;5;124m\"\u001B[39m)\n\u001B[0;32m     69\u001B[0m     \u001B[38;5;28mprint\u001B[39m(\u001B[38;5;124m\"\u001B[39m\u001B[38;5;124m-------------------------------------------------------\u001B[39m\u001B[38;5;124m\"\u001B[39m)\n",
      "File \u001B[1;32m~\\PycharmProjects\\pythonProject\\ChallengeENS\\Trainer.py:128\u001B[0m, in \u001B[0;36meval_models\u001B[1;34m(ensemble, dataloader, config, cross_entropy)\u001B[0m\n\u001B[0;32m    126\u001B[0m nb_non_null \u001B[38;5;241m=\u001B[39m \u001B[38;5;241m0\u001B[39m\n\u001B[0;32m    127\u001B[0m \u001B[38;5;28;01mwith\u001B[39;00m torch\u001B[38;5;241m.\u001B[39minference_mode():\n\u001B[1;32m--> 128\u001B[0m \u001B[43m    \u001B[49m\u001B[38;5;28;43;01mfor\u001B[39;49;00m\u001B[43m \u001B[49m\u001B[43minputs\u001B[49m\u001B[43m,\u001B[49m\u001B[43m \u001B[49m\u001B[43mtargets\u001B[49m\u001B[43m \u001B[49m\u001B[38;5;129;43;01min\u001B[39;49;00m\u001B[43m \u001B[49m\u001B[43mdataloader\u001B[49m\u001B[43m:\u001B[49m\n\u001B[0;32m    129\u001B[0m \u001B[43m        \u001B[49m\u001B[38;5;28;43;01mif\u001B[39;49;00m\u001B[43m \u001B[49m\u001B[43mcross_entropy\u001B[49m\u001B[43m:\u001B[49m\n\u001B[0;32m    130\u001B[0m \u001B[43m            \u001B[49m\u001B[43mpred_models\u001B[49m\u001B[43m \u001B[49m\u001B[38;5;241;43m=\u001B[39;49m\u001B[43m \u001B[49m\u001B[43m[\u001B[49m\u001B[43mtorch\u001B[49m\u001B[38;5;241;43m.\u001B[39;49m\u001B[43margmax\u001B[49m\u001B[43m(\u001B[49m\u001B[43mmodel\u001B[49m\u001B[43m(\u001B[49m\u001B[43minputs\u001B[49m\u001B[43m)\u001B[49m\u001B[43m,\u001B[49m\u001B[43m \u001B[49m\u001B[43mdim\u001B[49m\u001B[38;5;241;43m=\u001B[39;49m\u001B[38;5;241;43m-\u001B[39;49m\u001B[38;5;241;43m1\u001B[39;49m\u001B[43m)\u001B[49m\u001B[43m \u001B[49m\u001B[38;5;28;43;01mfor\u001B[39;49;00m\u001B[43m \u001B[49m\u001B[43mmodel\u001B[49m\u001B[43m \u001B[49m\u001B[38;5;129;43;01min\u001B[39;49;00m\u001B[43m \u001B[49m\u001B[43mensemble\u001B[49m\u001B[43m]\u001B[49m\n",
      "File \u001B[1;32m~\\PycharmProjects\\pythonProject\\.venv\\Lib\\site-packages\\torch\\utils\\data\\dataloader.py:484\u001B[0m, in \u001B[0;36mDataLoader.__iter__\u001B[1;34m(self)\u001B[0m\n\u001B[0;32m    482\u001B[0m     \u001B[38;5;28;01mreturn\u001B[39;00m \u001B[38;5;28mself\u001B[39m\u001B[38;5;241m.\u001B[39m_iterator\n\u001B[0;32m    483\u001B[0m \u001B[38;5;28;01melse\u001B[39;00m:\n\u001B[1;32m--> 484\u001B[0m     \u001B[38;5;28;01mreturn\u001B[39;00m \u001B[38;5;28;43mself\u001B[39;49m\u001B[38;5;241;43m.\u001B[39;49m\u001B[43m_get_iterator\u001B[49m\u001B[43m(\u001B[49m\u001B[43m)\u001B[49m\n",
      "File \u001B[1;32m~\\PycharmProjects\\pythonProject\\.venv\\Lib\\site-packages\\torch\\utils\\data\\dataloader.py:412\u001B[0m, in \u001B[0;36mDataLoader._get_iterator\u001B[1;34m(self)\u001B[0m\n\u001B[0;32m    410\u001B[0m \u001B[38;5;28;01mdef\u001B[39;00m \u001B[38;5;21m_get_iterator\u001B[39m(\u001B[38;5;28mself\u001B[39m) \u001B[38;5;241m-\u001B[39m\u001B[38;5;241m>\u001B[39m \u001B[38;5;124m\"\u001B[39m\u001B[38;5;124m_BaseDataLoaderIter\u001B[39m\u001B[38;5;124m\"\u001B[39m:\n\u001B[0;32m    411\u001B[0m     \u001B[38;5;28;01mif\u001B[39;00m \u001B[38;5;28mself\u001B[39m\u001B[38;5;241m.\u001B[39mnum_workers \u001B[38;5;241m==\u001B[39m \u001B[38;5;241m0\u001B[39m:\n\u001B[1;32m--> 412\u001B[0m         \u001B[38;5;28;01mreturn\u001B[39;00m \u001B[43m_SingleProcessDataLoaderIter\u001B[49m\u001B[43m(\u001B[49m\u001B[38;5;28;43mself\u001B[39;49m\u001B[43m)\u001B[49m\n\u001B[0;32m    413\u001B[0m     \u001B[38;5;28;01melse\u001B[39;00m:\n\u001B[0;32m    414\u001B[0m         \u001B[38;5;28mself\u001B[39m\u001B[38;5;241m.\u001B[39mcheck_worker_number_rationality()\n",
      "File \u001B[1;32m~\\PycharmProjects\\pythonProject\\.venv\\Lib\\site-packages\\torch\\utils\\data\\dataloader.py:735\u001B[0m, in \u001B[0;36m_SingleProcessDataLoaderIter.__init__\u001B[1;34m(self, loader)\u001B[0m\n\u001B[0;32m    734\u001B[0m \u001B[38;5;28;01mdef\u001B[39;00m \u001B[38;5;21m__init__\u001B[39m(\u001B[38;5;28mself\u001B[39m, loader):\n\u001B[1;32m--> 735\u001B[0m     \u001B[38;5;28;43msuper\u001B[39;49m\u001B[43m(\u001B[49m\u001B[43m)\u001B[49m\u001B[38;5;241;43m.\u001B[39;49m\u001B[38;5;21;43m__init__\u001B[39;49m\u001B[43m(\u001B[49m\u001B[43mloader\u001B[49m\u001B[43m)\u001B[49m\n\u001B[0;32m    736\u001B[0m     \u001B[38;5;28;01massert\u001B[39;00m \u001B[38;5;28mself\u001B[39m\u001B[38;5;241m.\u001B[39m_timeout \u001B[38;5;241m==\u001B[39m \u001B[38;5;241m0\u001B[39m\n\u001B[0;32m    737\u001B[0m     \u001B[38;5;28;01massert\u001B[39;00m \u001B[38;5;28mself\u001B[39m\u001B[38;5;241m.\u001B[39m_num_workers \u001B[38;5;241m==\u001B[39m \u001B[38;5;241m0\u001B[39m\n",
      "File \u001B[1;32m~\\PycharmProjects\\pythonProject\\.venv\\Lib\\site-packages\\torch\\utils\\data\\dataloader.py:668\u001B[0m, in \u001B[0;36m_BaseDataLoaderIter.__init__\u001B[1;34m(self, loader)\u001B[0m\n\u001B[0;32m    664\u001B[0m \u001B[38;5;28mself\u001B[39m\u001B[38;5;241m.\u001B[39m_collate_fn \u001B[38;5;241m=\u001B[39m loader\u001B[38;5;241m.\u001B[39mcollate_fn\n\u001B[0;32m    665\u001B[0m \u001B[38;5;28mself\u001B[39m\u001B[38;5;241m.\u001B[39m_sampler_iter \u001B[38;5;241m=\u001B[39m \u001B[38;5;28miter\u001B[39m(\u001B[38;5;28mself\u001B[39m\u001B[38;5;241m.\u001B[39m_index_sampler)\n\u001B[0;32m    666\u001B[0m \u001B[38;5;28mself\u001B[39m\u001B[38;5;241m.\u001B[39m_base_seed \u001B[38;5;241m=\u001B[39m (\n\u001B[0;32m    667\u001B[0m     \u001B[43mtorch\u001B[49m\u001B[38;5;241;43m.\u001B[39;49m\u001B[43mempty\u001B[49m\u001B[43m(\u001B[49m\u001B[43m(\u001B[49m\u001B[43m)\u001B[49m\u001B[43m,\u001B[49m\u001B[43m \u001B[49m\u001B[43mdtype\u001B[49m\u001B[38;5;241;43m=\u001B[39;49m\u001B[43mtorch\u001B[49m\u001B[38;5;241;43m.\u001B[39;49m\u001B[43mint64\u001B[49m\u001B[43m)\u001B[49m\n\u001B[1;32m--> 668\u001B[0m \u001B[43m    \u001B[49m\u001B[38;5;241;43m.\u001B[39;49m\u001B[43mrandom_\u001B[49m\u001B[43m(\u001B[49m\u001B[43mgenerator\u001B[49m\u001B[38;5;241;43m=\u001B[39;49m\u001B[43mloader\u001B[49m\u001B[38;5;241;43m.\u001B[39;49m\u001B[43mgenerator\u001B[49m\u001B[43m)\u001B[49m\n\u001B[0;32m    669\u001B[0m     \u001B[38;5;241m.\u001B[39mitem()\n\u001B[0;32m    670\u001B[0m )\n\u001B[0;32m    671\u001B[0m \u001B[38;5;28mself\u001B[39m\u001B[38;5;241m.\u001B[39m_persistent_workers \u001B[38;5;241m=\u001B[39m loader\u001B[38;5;241m.\u001B[39mpersistent_workers\n\u001B[0;32m    672\u001B[0m \u001B[38;5;28mself\u001B[39m\u001B[38;5;241m.\u001B[39m_num_yielded \u001B[38;5;241m=\u001B[39m \u001B[38;5;241m0\u001B[39m\n",
      "\u001B[1;31mKeyboardInterrupt\u001B[0m: "
     ]
    }
   ],
   "execution_count": 10
  },
  {
   "cell_type": "code",
   "outputs": [],
   "source": [],
   "metadata": {
    "collapsed": false
   },
   "id": "1b7d5f11061b6b9",
   "execution_count": null
  }
 ],
 "metadata": {
  "kernelspec": {
   "display_name": "Python 3",
   "language": "python",
   "name": "python3"
  },
  "language_info": {
   "codemirror_mode": {
    "name": "ipython",
    "version": 2
   },
   "file_extension": ".py",
   "mimetype": "text/x-python",
   "name": "python",
   "nbconvert_exporter": "python",
   "pygments_lexer": "ipython2",
   "version": "2.7.6"
  }
 },
 "nbformat": 4,
 "nbformat_minor": 5
}
